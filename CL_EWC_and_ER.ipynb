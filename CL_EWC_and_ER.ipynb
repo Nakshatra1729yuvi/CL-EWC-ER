{
  "nbformat": 4,
  "nbformat_minor": 0,
  "metadata": {
    "colab": {
      "provenance": [],
      "gpuType": "T4"
    },
    "kernelspec": {
      "name": "python3",
      "display_name": "Python 3"
    },
    "language_info": {
      "name": "python"
    },
    "accelerator": "GPU"
  },
  "cells": [
    {
      "cell_type": "code",
      "execution_count": 16,
      "metadata": {
        "id": "9ea_90G7rqW3"
      },
      "outputs": [],
      "source": [
        "import torch\n",
        "import torch.nn as nn\n",
        "import torch.nn.functional as F\n",
        "from torchvision import datasets, transforms\n",
        "from torch.utils.data import DataLoader\n",
        "from tqdm import tqdm\n",
        "import random\n",
        "# --------------------------------------------------------------\n",
        "# Config\n",
        "# --------------------------------------------------------------\n",
        "BATCH_SIZE = 512\n",
        "\n",
        "device=torch.device(\"cuda\" if torch.cuda.is_available() else \"cpu\")\n",
        "\n",
        "# --------------------------------------------------------------\n",
        "# Dataset + Masking Module\n",
        "# --------------------------------------------------------------\n",
        "transform = transforms.Compose([\n",
        "    transforms.ToTensor(),\n",
        "])\n",
        "\n"
      ]
    },
    {
      "cell_type": "code",
      "source": [
        "train_data = datasets.MNIST(root=\"./data\", train=True, download=True, transform=transform)\n",
        "train_loader = DataLoader(train_data, batch_size=BATCH_SIZE, shuffle=True)\n",
        "test_data = datasets.MNIST(root=\"./data\", train=False, download=True, transform=transform)\n",
        "test_loader = DataLoader(test_data, batch_size=BATCH_SIZE, shuffle=True)\n"
      ],
      "metadata": {
        "id": "OT4sjc1rspsY"
      },
      "execution_count": 17,
      "outputs": []
    },
    {
      "cell_type": "code",
      "source": [
        "train_data2 = datasets.FashionMNIST(root=\"./data\", train=True, download=True, transform=transform)\n",
        "train_loader2 = DataLoader(train_data2, batch_size=BATCH_SIZE, shuffle=True)\n",
        "test_data2 = datasets.FashionMNIST(root=\"./data\", train=False, download=True, transform=transform)\n",
        "test_loader2 = DataLoader(test_data2, batch_size=BATCH_SIZE, shuffle=True)\n"
      ],
      "metadata": {
        "id": "74qtB6vJsn4s"
      },
      "execution_count": 18,
      "outputs": []
    },
    {
      "cell_type": "code",
      "source": [
        "class SimpleCNN(nn.Module):\n",
        "  def __init__(self,dim,out_feat):\n",
        "    super().__init__()\n",
        "    self.net=nn.Sequential(\n",
        "        nn.Conv2d(1,32,kernel_size=3,stride=2,padding=1),\n",
        "        nn.ReLU(),\n",
        "        nn.Conv2d(32,64,kernel_size=3,stride=2,padding=1),\n",
        "        nn.ReLU(),\n",
        "        nn.Flatten(),\n",
        "        nn.Linear(64*7*7,dim),\n",
        "        nn.ReLU(),\n",
        "        nn.Linear(dim,out_feat)\n",
        "    )\n",
        "  def forward(self,x):\n",
        "    return self.net(x)"
      ],
      "metadata": {
        "id": "qbDwL0-Kst16"
      },
      "execution_count": 19,
      "outputs": []
    },
    {
      "cell_type": "code",
      "source": [
        "model=SimpleCNN(dim=768,out_feat=10).to(device)\n",
        "opt=torch.optim.Adam(model.parameters(),lr=1e-3)\n",
        "crit=nn.CrossEntropyLoss()"
      ],
      "metadata": {
        "id": "61muQunetW1p"
      },
      "execution_count": 20,
      "outputs": []
    },
    {
      "cell_type": "code",
      "source": [
        "memory_buffer=[]\n",
        "Memory_Size=10000\n",
        "def update_memory(x,y):\n",
        "  for xi,yi in zip(x,y):\n",
        "    if len(memory_buffer)<Memory_Size:\n",
        "      memory_buffer.append((xi.cpu(),yi.cpu()))\n",
        "    else:\n",
        "      idx=random.randint(0,Memory_Size-1)\n",
        "      memory_buffer[idx]=(xi.cpu(),yi.cpu())\n",
        "\n",
        "def sample_memory(batch_size,device):\n",
        "  if len(memory_buffer)==0:\n",
        "    return None,None\n",
        "  else:\n",
        "    batch=random.sample(memory_buffer,min(len(memory_buffer),batch_size))\n",
        "    x_b,y_b=zip(*batch)\n",
        "    return torch.stack(x_b).to(device),torch.stack(y_b).to(device)"
      ],
      "metadata": {
        "id": "xT259YI1tiyf"
      },
      "execution_count": 21,
      "outputs": []
    },
    {
      "cell_type": "code",
      "source": [
        "def get_fisher(train_loader:DataLoader):\n",
        "  model.eval()\n",
        "  fisher={n:torch.zeros_like(p) for n,p in model.named_parameters()}\n",
        "  for x,y in tqdm(train_loader):\n",
        "    x,y=x.to(device),y.to(device)\n",
        "    loss=crit(model(x),y)\n",
        "    model.zero_grad()\n",
        "    loss.backward()\n",
        "    for n,p in model.named_parameters():\n",
        "      if p.grad is not None:\n",
        "        fisher[n]+=(p.grad.detach()**2)\n",
        "  for n,p in model.named_parameters():\n",
        "    fisher[n]/=len(train_loader)\n",
        "  old_params={n:p.clone().detach() for n,p in model.named_parameters()}\n",
        "  return fisher,old_params"
      ],
      "metadata": {
        "id": "O84NWMQpt58h"
      },
      "execution_count": 22,
      "outputs": []
    },
    {
      "cell_type": "code",
      "source": [
        "def train_model(loader,epochs,update_mem,ewc=False,fisher=None,old_params=None):\n",
        "  ewc_lambda=5000\n",
        "  for epoch in range(epochs):\n",
        "    for x,y in tqdm(loader):\n",
        "      x,y=x.to(device),y.to(device)\n",
        "      x_m,y_m=sample_memory(10,device)\n",
        "      if x_m is not None:\n",
        "        x_b,y_b=torch.cat([x,x_m]),torch.cat([y,y_m])\n",
        "      else:\n",
        "        x_b,y_b=x,y\n",
        "      loss=crit(model(x_b),y_b)\n",
        "      if ewc:\n",
        "        ewc_loss=0\n",
        "        for n,p in model.named_parameters():\n",
        "          if n in fisher:\n",
        "            ewc_loss+=(fisher[n]*(p-old_params[n])**2).sum()\n",
        "        loss=loss+((ewc_loss)*ewc_lambda)\n",
        "      opt.zero_grad()\n",
        "      loss.backward()\n",
        "      opt.step()\n",
        "\n",
        "      if update_mem:\n",
        "        update_memory(x,y)"
      ],
      "metadata": {
        "id": "CdieoWF1DU6O"
      },
      "execution_count": 23,
      "outputs": []
    },
    {
      "cell_type": "code",
      "source": [
        "train_model(train_loader,2,True)"
      ],
      "metadata": {
        "colab": {
          "base_uri": "https://localhost:8080/"
        },
        "id": "J5BdllRLsahs",
        "outputId": "d80332d6-7c8e-4446-df66-541b0af1538a"
      },
      "execution_count": 24,
      "outputs": [
        {
          "output_type": "stream",
          "name": "stderr",
          "text": [
            "100%|██████████| 118/118 [00:09<00:00, 11.83it/s]\n",
            "100%|██████████| 118/118 [00:10<00:00, 11.65it/s]\n"
          ]
        }
      ]
    },
    {
      "cell_type": "code",
      "source": [
        "fisher,old_params=get_fisher(train_loader=train_loader)"
      ],
      "metadata": {
        "colab": {
          "base_uri": "https://localhost:8080/"
        },
        "id": "WZWnpqLv1Zx_",
        "outputId": "cd3fe286-1c81-4b36-c5b5-b8e57a78a693"
      },
      "execution_count": 25,
      "outputs": [
        {
          "output_type": "stream",
          "name": "stderr",
          "text": [
            "100%|██████████| 118/118 [00:06<00:00, 19.01it/s]\n"
          ]
        }
      ]
    },
    {
      "cell_type": "code",
      "source": [
        "def validation(loader):\n",
        "  total=0\n",
        "  correct=0\n",
        "  for x,y in loader:\n",
        "    x,y=x.to(device),y.to(device)\n",
        "    preds=model(x)\n",
        "    score=torch.argmax(preds,dim=1)\n",
        "    correct+=(score==y).sum().item()\n",
        "    total+=len(y)\n",
        "  return correct*100/total\n"
      ],
      "metadata": {
        "id": "7tXkb1V1N4hy"
      },
      "execution_count": 26,
      "outputs": []
    },
    {
      "cell_type": "code",
      "source": [
        "acc=validation(test_loader)\n",
        "acc"
      ],
      "metadata": {
        "colab": {
          "base_uri": "https://localhost:8080/"
        },
        "id": "bMERBe5tO6Gi",
        "outputId": "0b341b3a-4f6e-493a-94e3-51feb9fa5de5"
      },
      "execution_count": 27,
      "outputs": [
        {
          "output_type": "execute_result",
          "data": {
            "text/plain": [
              "97.76"
            ]
          },
          "metadata": {},
          "execution_count": 27
        }
      ]
    },
    {
      "cell_type": "code",
      "source": [
        "train_model(train_loader2,2,False,True,fisher,old_params)"
      ],
      "metadata": {
        "colab": {
          "base_uri": "https://localhost:8080/"
        },
        "id": "sJ6G4M5RtNR7",
        "outputId": "ace6d0f4-897c-49f7-a7a2-ff6a45f19de9"
      },
      "execution_count": 28,
      "outputs": [
        {
          "output_type": "stream",
          "name": "stderr",
          "text": [
            "100%|██████████| 118/118 [00:07<00:00, 16.63it/s]\n",
            "100%|██████████| 118/118 [00:06<00:00, 18.40it/s]\n"
          ]
        }
      ]
    },
    {
      "cell_type": "code",
      "source": [
        "acc=validation(test_loader2)\n",
        "acc"
      ],
      "metadata": {
        "colab": {
          "base_uri": "https://localhost:8080/"
        },
        "id": "4rzfNwu8tUvt",
        "outputId": "a1c5dd6d-fa4e-4c94-8295-22394e8f91c3"
      },
      "execution_count": 29,
      "outputs": [
        {
          "output_type": "execute_result",
          "data": {
            "text/plain": [
              "87.29"
            ]
          },
          "metadata": {},
          "execution_count": 29
        }
      ]
    },
    {
      "cell_type": "code",
      "source": [
        "acc=validation(test_loader)\n",
        "acc"
      ],
      "metadata": {
        "colab": {
          "base_uri": "https://localhost:8080/"
        },
        "id": "n1bfqSUOtkZb",
        "outputId": "c808ecf0-573d-4742-b157-d29d897de70e"
      },
      "execution_count": 30,
      "outputs": [
        {
          "output_type": "execute_result",
          "data": {
            "text/plain": [
              "92.86"
            ]
          },
          "metadata": {},
          "execution_count": 30
        }
      ]
    }
  ]
}